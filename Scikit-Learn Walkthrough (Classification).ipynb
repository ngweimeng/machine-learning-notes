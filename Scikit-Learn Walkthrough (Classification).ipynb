{
 "cells": [
  {
   "cell_type": "markdown",
   "id": "5071bfd0-648a-4e90-bd16-ec7f46db97f6",
   "metadata": {},
   "source": [
    "# Scikit-Learn (Classification) Walkthrough - Heart Disease Prediction Model\n",
    "\n",
    "## Overview\n",
    "This project aims to leverage Python-based machine learning and data science libraries to construct a predictive model that estimates the probability of heart disease in individuals based on their medical attributes.\n",
    "\n",
    "## Methodology\n",
    "The process will include the following steps\n",
    "\n",
    "1. **Data Preparation**: Load and preprocess the data for modeling.\n",
    "2. **Model Selection**: Choose an appropriate algorithm for the prediction task.\n",
    "3. **Model Training**: Fit the selected model to the training data.\n",
    "4. **Model Evaluation**: Assess the model's performance with validation data.\n",
    "5. **Model Improvement**: Optimize the model through hyperparameter tuning and experimentation.\n",
    "6. **Model Deployment**: Save and document the model for future use.\n",
    "\n",
    "## Problem Statement\n",
    "> Given clinical parameters about a patient, can we predict whether or not they have heart disease?\n",
    "\n",
    "## Data Source\n",
    "* The original dataset is sourced from the UCI Machine Learning Depository (https://archive.ics.uci.edu/ml/datasets/heart+Disease).\n",
    "* An alternative version of the dataset is available on Kaggle (https://www.kaggle.com/ronitf/heart-disease-uci).\n",
    "\n",
    "See **Data Dictionary** below:\n",
    "1. age - age in years\n",
    "2. sex - (1 = male; 0 = female)\n",
    "3. cp - chest pain type\n",
    "    * 0: Typical angina: chest pain related decrease blood supply to the heart\n",
    "    * 1: Atypical angina: chest pain not related to heart\n",
    "    * 2: Non-anginal pain: typically esophageal spasms (non heart related)\n",
    "    * 3: Asymptomatic: chest pain not showing signs of disease\n",
    "4. trestbps - resting blood pressure (in mm Hg on admission to the hospital) anything above 130-140 is typically cause for concern\n",
    "5. chol - serum cholestoral in mg/dl\n",
    "    * serum = LDL + HDL + .2 * triglycerides\n",
    "    * above 200 is cause for concern\n",
    "6. fbs - (fasting blood sugar > 120 mg/dl) (1 = true; 0 = false)\n",
    "    * '>126' mg/dL signals diabetes\n",
    "7. restecg - resting electrocardiographic results\n",
    "    * 0: Nothing to note\n",
    "    * 1: ST-T Wave abnormality\n",
    "        * can range from mild symptoms to severe problems\n",
    "        * signals non-normal heart beat\n",
    "    * 2: Possible or definite left ventricular hypertrophy\n",
    "        * Enlarged heart's main pumping chamber\n",
    "8. thalach - maximum heart rate achieved\n",
    "9. exang - exercise induced angina (1 = yes; 0 = no)\n",
    "10. oldpeak - ST depression induced by exercise relative to rest looks at stress of heart during excercise unhealthy heart will stress more\n",
    "11. slope - the slope of the peak exercise ST segment\n",
    "    * 0: Upsloping: better heart rate with excercise (uncommon)\n",
    "    * 1: Flatsloping: minimal change (typical healthy heart)\n",
    "    * 2: Downslopins: signs of unhealthy heart\n",
    "12. ca - number of major vessels (0-3) colored by flourosopy\n",
    "    * colored vessel means the doctor can see the blood passing through\n",
    "    * the more blood movement the better (no clots)\n",
    "13. thal - thalium stress result\n",
    "    * 1,3: normal\n",
    "    * 6: fixed defect: used to be defect but ok now\n",
    "    * 7: reversable defect: no proper blood movement when excercising\n",
    "14. target - have disease or not (1=yes, 0=no) (= the predicted attribute)\""
   ]
  },
  {
   "cell_type": "markdown",
   "id": "3a6a1606-a36d-4033-9ec1-7eb13070e3ea",
   "metadata": {},
   "source": [
    "## 0. Standard Library Imports\n",
    "\n",
    "In most machine learning projects, we import a suite of foundational libraries that are essential for various tasks throughout the project:\n",
    "\n",
    "1. matplotlib: For creating visualizations to explore the data and results.\n",
    "2. numpy: For efficient numerical computations.\n",
    "3. pandas: For data manipulation and retrieval.\n",
    "4. sklearn: For implementing machine learning algorithms."
   ]
  },
  {
   "cell_type": "code",
   "execution_count": 1,
   "id": "da8d0807-5753-431c-a16a-d3d6bbf6e5e9",
   "metadata": {},
   "outputs": [],
   "source": [
    "# Regular EDA (exploratory data analysis) and plotting libraries\n",
    "import numpy as np\n",
    "import pandas as pd\n",
    "import matplotlib.pyplot as plt\n",
    "import seaborn as sns\n",
    "\n",
    "# For plots to appear inside the notebook\n",
    "%matplotlib inline \n",
    "\n",
    "# Models from Scikit-Learn\n",
    "from sklearn.linear_model import LogisticRegression\n",
    "from sklearn.neighbors import KNeighborsClassifier\n",
    "from sklearn.ensemble import RandomForestClassifier\n",
    "\n",
    "# Model Evaluations\n",
    "from sklearn.model_selection import train_test_split, cross_val_score\n",
    "from sklearn.model_selection import RandomizedSearchCV, GridSearchCV\n",
    "from sklearn.metrics import accuracy_score\n",
    "from sklearn.metrics import confusion_matrix, classification_report\n",
    "from sklearn.metrics import precision_score, recall_score, f1_score\n",
    "from sklearn.metrics import RocCurveDisplay\n",
    "from sklearn.metrics import roc_curve, roc_auc_score\n",
    "\n",
    "# Suppress warning\n",
    "import warnings\n",
    "warnings.filterwarnings('ignore')"
   ]
  },
  {
   "cell_type": "markdown",
   "id": "7e97df89-89eb-41ca-a926-9e79d943e26d",
   "metadata": {},
   "source": [
    "## 1. Data Preperation\n",
    "\n",
    "The first step in any machine learning project is to understand and prepare the data. We start by loading the dataset and examining its structure to determine the next steps"
   ]
  },
  {
   "cell_type": "code",
   "execution_count": 2,
   "id": "06509d35-d788-4d73-924b-15b2914afad5",
   "metadata": {},
   "outputs": [
    {
     "data": {
      "text/plain": [
       "(303, 14)"
      ]
     },
     "execution_count": 2,
     "metadata": {},
     "output_type": "execute_result"
    }
   ],
   "source": [
    "# Load the dataset into a pandas DataFrame\n",
    "df = pd.read_csv(\"heart-disease.csv\")\n",
    "\n",
    "# Display the dimensions of the DataFrame (rows, columns)\n",
    "df.shape  # Output: (303, 14)"
   ]
  },
  {
   "cell_type": "code",
   "execution_count": 3,
   "id": "a4c865a1-edc3-4224-bd82-b575bb804655",
   "metadata": {},
   "outputs": [
    {
     "data": {
      "text/html": [
       "<div>\n",
       "<style scoped>\n",
       "    .dataframe tbody tr th:only-of-type {\n",
       "        vertical-align: middle;\n",
       "    }\n",
       "\n",
       "    .dataframe tbody tr th {\n",
       "        vertical-align: top;\n",
       "    }\n",
       "\n",
       "    .dataframe thead th {\n",
       "        text-align: right;\n",
       "    }\n",
       "</style>\n",
       "<table border=\"1\" class=\"dataframe\">\n",
       "  <thead>\n",
       "    <tr style=\"text-align: right;\">\n",
       "      <th></th>\n",
       "      <th>age</th>\n",
       "      <th>sex</th>\n",
       "      <th>cp</th>\n",
       "      <th>trestbps</th>\n",
       "      <th>chol</th>\n",
       "      <th>fbs</th>\n",
       "      <th>restecg</th>\n",
       "      <th>thalach</th>\n",
       "      <th>exang</th>\n",
       "      <th>oldpeak</th>\n",
       "      <th>slope</th>\n",
       "      <th>ca</th>\n",
       "      <th>thal</th>\n",
       "      <th>target</th>\n",
       "    </tr>\n",
       "  </thead>\n",
       "  <tbody>\n",
       "    <tr>\n",
       "      <th>0</th>\n",
       "      <td>63</td>\n",
       "      <td>1</td>\n",
       "      <td>3</td>\n",
       "      <td>145</td>\n",
       "      <td>233</td>\n",
       "      <td>1</td>\n",
       "      <td>0</td>\n",
       "      <td>150</td>\n",
       "      <td>0</td>\n",
       "      <td>2.3</td>\n",
       "      <td>0</td>\n",
       "      <td>0</td>\n",
       "      <td>1</td>\n",
       "      <td>1</td>\n",
       "    </tr>\n",
       "    <tr>\n",
       "      <th>1</th>\n",
       "      <td>37</td>\n",
       "      <td>1</td>\n",
       "      <td>2</td>\n",
       "      <td>130</td>\n",
       "      <td>250</td>\n",
       "      <td>0</td>\n",
       "      <td>1</td>\n",
       "      <td>187</td>\n",
       "      <td>0</td>\n",
       "      <td>3.5</td>\n",
       "      <td>0</td>\n",
       "      <td>0</td>\n",
       "      <td>2</td>\n",
       "      <td>1</td>\n",
       "    </tr>\n",
       "    <tr>\n",
       "      <th>2</th>\n",
       "      <td>41</td>\n",
       "      <td>0</td>\n",
       "      <td>1</td>\n",
       "      <td>130</td>\n",
       "      <td>204</td>\n",
       "      <td>0</td>\n",
       "      <td>0</td>\n",
       "      <td>172</td>\n",
       "      <td>0</td>\n",
       "      <td>1.4</td>\n",
       "      <td>2</td>\n",
       "      <td>0</td>\n",
       "      <td>2</td>\n",
       "      <td>1</td>\n",
       "    </tr>\n",
       "    <tr>\n",
       "      <th>3</th>\n",
       "      <td>56</td>\n",
       "      <td>1</td>\n",
       "      <td>1</td>\n",
       "      <td>120</td>\n",
       "      <td>236</td>\n",
       "      <td>0</td>\n",
       "      <td>1</td>\n",
       "      <td>178</td>\n",
       "      <td>0</td>\n",
       "      <td>0.8</td>\n",
       "      <td>2</td>\n",
       "      <td>0</td>\n",
       "      <td>2</td>\n",
       "      <td>1</td>\n",
       "    </tr>\n",
       "    <tr>\n",
       "      <th>4</th>\n",
       "      <td>57</td>\n",
       "      <td>0</td>\n",
       "      <td>0</td>\n",
       "      <td>120</td>\n",
       "      <td>354</td>\n",
       "      <td>0</td>\n",
       "      <td>1</td>\n",
       "      <td>163</td>\n",
       "      <td>1</td>\n",
       "      <td>0.6</td>\n",
       "      <td>2</td>\n",
       "      <td>0</td>\n",
       "      <td>2</td>\n",
       "      <td>1</td>\n",
       "    </tr>\n",
       "  </tbody>\n",
       "</table>\n",
       "</div>"
      ],
      "text/plain": [
       "   age  sex  cp  trestbps  chol  fbs  restecg  thalach  exang  oldpeak  slope  \\\n",
       "0   63    1   3       145   233    1        0      150      0      2.3      0   \n",
       "1   37    1   2       130   250    0        1      187      0      3.5      0   \n",
       "2   41    0   1       130   204    0        0      172      0      1.4      2   \n",
       "3   56    1   1       120   236    0        1      178      0      0.8      2   \n",
       "4   57    0   0       120   354    0        1      163      1      0.6      2   \n",
       "\n",
       "   ca  thal  target  \n",
       "0   0     1       1  \n",
       "1   0     2       1  \n",
       "2   0     2       1  \n",
       "3   0     2       1  \n",
       "4   0     2       1  "
      ]
     },
     "execution_count": 3,
     "metadata": {},
     "output_type": "execute_result"
    }
   ],
   "source": [
    "# Preview the first few rows of the DataFrame\n",
    "df.head()"
   ]
  },
  {
   "cell_type": "markdown",
   "id": "6fcacb13-8996-4b81-8924-fc7c3d61d00d",
   "metadata": {},
   "source": [
    "With the data loaded, we proceed to split the dataset into features (**X**) and the target variable (**y**). The target variable is what we aim to predict, in this case, the presence of heart disease."
   ]
  },
  {
   "cell_type": "code",
   "execution_count": 4,
   "id": "971c9591-10f0-4b0f-acca-f5ebe95e1084",
   "metadata": {},
   "outputs": [],
   "source": [
    "# Prepare the features and target variable\n",
    "X = df.drop(\"target\", axis=1)  # Features: all columns except 'target'\n",
    "y = df[\"target\"]               # Target variable: 'target' column\n",
    "\n",
    "# Set a seed for reproducibility\n",
    "np.random.seed(42)"
   ]
  },
  {
   "cell_type": "code",
   "execution_count": 5,
   "id": "dc11ffd0-ef7c-47b0-a5b3-f2210688016d",
   "metadata": {},
   "outputs": [
    {
     "data": {
      "text/plain": [
       "((242, 13), (61, 13), (242,), (61,))"
      ]
     },
     "execution_count": 5,
     "metadata": {},
     "output_type": "execute_result"
    }
   ],
   "source": [
    "# Split the dataset into training and test sets (80/20 split)\n",
    "X_train, X_test, y_train, y_test = train_test_split(X, y, test_size=0.2)\n",
    "\n",
    "# Verify the shapes of the training and test sets\n",
    "X_train.shape, X_test.shape, y_train.shape, y_test.shape  # Outputs the dimensions"
   ]
  },
  {
   "cell_type": "markdown",
   "id": "eda41337-9010-4618-ac3b-6908a35ffc3f",
   "metadata": {},
   "source": [
    "## 2. Model Selection\n",
    "\n",
    "When selecting a model or estimator for a machine learning task, it is helpful to refer to a guide like the Scikit-Learn machine learning map (https://scikit-learn.org/stable/tutorial/machine_learning_map/index.html).\n",
    "\n",
    "For this classification problem, we will explore the following estimators:\n",
    "\n",
    "1. Logistic Regression\n",
    "2. K-Nearest Neighbors Classifier\n",
    "3. Random Forest Classifier\n",
    "\n",
    "These models are chosen for their suitability to binary classification problems, as well as their diverse underlying mechanisms which can provide a broad perspective on the problem's solution space."
   ]
  },
  {
   "cell_type": "code",
   "execution_count": 6,
   "id": "fb05025b-dce6-4f79-b446-127a18995524",
   "metadata": {},
   "outputs": [],
   "source": [
    "# Initialize models in a dictionary\n",
    "# This structure allows for convenient iteration over each model for training and evaluation.\n",
    "models = {\n",
    "    \"Logistic Regression\": LogisticRegression(),\n",
    "    \"KNN\": KNeighborsClassifier(),\n",
    "    \"Random Forest\": RandomForestClassifier()\n",
    "}"
   ]
  },
  {
   "cell_type": "markdown",
   "id": "f0a60093-cb5c-460f-af49-811dc6a2fc46",
   "metadata": {},
   "source": [
    "## 3. Model Training\n",
    "\n",
    "We will define a function that can fit various machine learning models to our training data and evaluate their performance on the test data."
   ]
  },
  {
   "cell_type": "code",
   "execution_count": 7,
   "id": "351e32a9-ba5b-478f-90c3-60d37624265a",
   "metadata": {},
   "outputs": [],
   "source": [
    "def fit_and_score(models, X_train, X_test, y_train, y_test):\n",
    "    \"\"\"\n",
    "    Fits and evaluates given machine learning models.\n",
    "    models : a dictionary of different Scikit-Learn machine learning models\n",
    "    X_train : training data (no labels)\n",
    "    X_test : testing data (no labels)\n",
    "    y_train : training labels\n",
    "    y_test : testing labels\n",
    "\n",
    "    Returns a dictionary of model scores.\n",
    "    \"\"\"\n",
    "    # Set a random seed for reproducible results\n",
    "    np.random.seed(42)\n",
    "\n",
    "    # Create a dictionary to keep the scores of each model\n",
    "    model_scores = {}\n",
    "\n",
    "    # Loop through the models passed in the 'models' dictionary\n",
    "    for name, model in models.items():\n",
    "        # Fit the model to the training data\n",
    "        model.fit(X_train, y_train)\n",
    "        # Evaluate the model on the test data and store the score in the dictionary\n",
    "        model_scores[name] = model.score(X_test, y_test)\n",
    "    \n",
    "    # Return the model scores dictionary with the model names and their corresponding evaluation score\n",
    "    return model_scores"
   ]
  },
  {
   "cell_type": "code",
   "execution_count": 8,
   "id": "d7c1ff80-5322-457d-8bef-c409d8c56996",
   "metadata": {},
   "outputs": [
    {
     "data": {
      "text/plain": [
       "{'Logistic Regression': 0.8852459016393442,\n",
       " 'KNN': 0.6885245901639344,\n",
       " 'Random Forest': 0.8360655737704918}"
      ]
     },
     "execution_count": 8,
     "metadata": {},
     "output_type": "execute_result"
    }
   ],
   "source": [
    "# Use the function to train and evaluate the models\n",
    "model_scores = fit_and_score(models=models,\n",
    "                             X_train=X_train,\n",
    "                             X_test=X_test,\n",
    "                             y_train=y_train,\n",
    "                             y_test=y_test)\n",
    "\n",
    "# Display the performance of each model\n",
    "model_scores"
   ]
  },
  {
   "cell_type": "markdown",
   "id": "98f1cc01-d5ba-40ab-9d9c-ee5306fead60",
   "metadata": {},
   "source": [
    "## 4. Model Evaluation\n",
    "Each Scikit-Learn model supports a variety of evaluation metrics that can be applied, depending on the nature of the model and the problem at hand. In this section, we focus on the evaluation metrics for Logistic Regression, which has demonstrated the highest accuracy score in our earlier comparisons.\n",
    "\n",
    "A comprehensive list of evaluation metrics is available in the Scikit-Learn documentation. (https://scikit-learn.org/stable/modules/model_evaluation.html) For classification models, common evaluation metrics include:\n",
    "* Accuracy \n",
    "* Precision\n",
    "* Recall\n",
    "* F1 score\n",
    "* Classification report\n",
    "* ROC curve\n",
    "* Area under the curve (AUC)\n",
    "* Confusion Matrix\n",
    "\n",
    "In addition to these metrics, we will also investigate the model's performance through Cross-Validation Evaluation, which provides a more robust understanding of its predictive power by testing the model's effectiveness on different subsets of the data."
   ]
  },
  {
   "cell_type": "code",
   "execution_count": 9,
   "id": "3de5c092-d939-42b8-9228-1931fc52c531",
   "metadata": {},
   "outputs": [],
   "source": [
    "# Initialize the Logistic Regression model\n",
    "clf = LogisticRegression()\n",
    "\n",
    "# Fit the model to the training data\n",
    "clf.fit(X_train, y_train)\n",
    "\n",
    "# Predict the labels for the test set\n",
    "y_preds = clf.predict(X_test)"
   ]
  },
  {
   "cell_type": "markdown",
   "id": "529dc310-d26a-4ef1-979b-3b76a20a7185",
   "metadata": {},
   "source": [
    "By default, Scikit-Learn models use accuracy as the score metric when the .score() method is called"
   ]
  },
  {
   "cell_type": "code",
   "execution_count": 10,
   "id": "b7bcc2db-5a45-4cc5-b12f-39e3a2f7c701",
   "metadata": {},
   "outputs": [
    {
     "name": "stdout",
     "output_type": "stream",
     "text": [
      "Accuracy Score: 0.8852459016393442\n"
     ]
    }
   ],
   "source": [
    "default_score = clf.score(X_test, y_test)\n",
    "print(f\"Accuracy Score: {default_score}\")"
   ]
  },
  {
   "cell_type": "code",
   "execution_count": 11,
   "id": "cf95a310-6083-45ee-b08d-1aadba5ac6f6",
   "metadata": {},
   "outputs": [
    {
     "name": "stdout",
     "output_type": "stream",
     "text": [
      "Accuracy Score: 0.8852459016393442\n",
      "Precision Score: 0.8787878787878788\n",
      "Recall Score: 0.90625\n",
      "F1 Score: 0.8923076923076922\n",
      "Classification Report:\n",
      "               precision    recall  f1-score   support\n",
      "\n",
      "           0       0.89      0.86      0.88        29\n",
      "           1       0.88      0.91      0.89        32\n",
      "\n",
      "    accuracy                           0.89        61\n",
      "   macro avg       0.89      0.88      0.88        61\n",
      "weighted avg       0.89      0.89      0.89        61\n",
      "\n",
      "AUC Score: 0.8841594827586207\n",
      "Confusion Matrix:\n",
      " [[25  4]\n",
      " [ 3 29]]\n"
     ]
    }
   ],
   "source": [
    "## Different classification metrics for model evaluation\n",
    "\n",
    "# Accuracy\n",
    "# The accuracy_score function measures the proportion of correct predictions\n",
    "print(f\"Accuracy Score: {accuracy_score(y_test, y_preds)}\")\n",
    "\n",
    "# Precision\n",
    "# Precision measures the ratio of true positives to the sum of true and false positives (the quality of the positive predictions)\n",
    "print(f\"Precision Score: {precision_score(y_test, y_preds)}\")\n",
    "\n",
    "# Recall\n",
    "# Recall (or sensitivity) measures the ratio of true positives to the sum of true positives and false negatives (the ability to find all positive samples)\n",
    "print(f\"Recall Score: {recall_score(y_test, y_preds)}\")\n",
    "\n",
    "# F1 Score\n",
    "# The F1 score is the harmonic mean of precision and recall and is useful for unbalanced classes\n",
    "print(f\"F1 Score: {f1_score(y_test, y_preds)}\")\n",
    "\n",
    "# Classification report\n",
    "# The classification_report provides a summary of precision, recall, and F1 score for each class\n",
    "print(f\"Classification Report:\\n {classification_report(y_test, y_preds)}\")\n",
    "\n",
    "# Receiver Operating Characteristic (ROC curve) / Area under curve (AUC)\n",
    "# The ROC curve is a plot of true positive rate against false positive rate at various threshold settings\n",
    "# The AUC score is the area under the ROC curve; higher values indicate better discrimination by the model\n",
    "false_positive_rate, true_positive_rate, thresholds = roc_curve(y_test, y_preds)\n",
    "print(f\"AUC Score: {roc_auc_score(y_test, y_preds)}\")\n",
    "\n",
    "# Confusion matrix\n",
    "# The confusion matrix is a table that is used to describe the performance of a classification model\n",
    "print(f\"Confusion Matrix:\\n {confusion_matrix(y_test, y_preds)}\")"
   ]
  },
  {
   "cell_type": "markdown",
   "id": "b6e8b7e9-5bed-44dd-a5fd-8c1967644f2a",
   "metadata": {},
   "source": [
    "### Plotting ROC Curve\n",
    "\n",
    "The Receiver Operating Characteristic (ROC) curve is a graphical plot that illustrates the diagnostic ability of a binary classifier system as its discrimination threshold is varied. The curve is created by plotting the true positive rate (TPR) against the false positive rate (FPR) at various threshold settings. The Area Under the Curve (AUC) represents the model's ability to discriminate between positive and negative classes.\n",
    "\n",
    "Steps to plot an ROC curve:\n",
    "1. Compute the probability scores for the positive class using the .predict_proba() method.\n",
    "2. Use roc_curve to calculate the FPR and TPR at various thresholds.\n",
    "3. Calculate the AUC score using roc_auc_score.\n",
    "4. Plot the FPR against the TPR using matplotlib."
   ]
  },
  {
   "cell_type": "code",
   "execution_count": 12,
   "id": "dce8628c-bf02-49b6-aad3-5e965980ad2e",
   "metadata": {},
   "outputs": [
    {
     "data": {
      "image/png": "[encoded data removed]",
      "text/plain": [
       "<Figure size 600x600 with 1 Axes>"
      ]
     },
     "metadata": {},
     "output_type": "display_data"
    }
   ],
   "source": [
    "# Calculate the probability scores of the positive class\n",
    "y_probs = clf.predict_proba(X_test)[:, 1]\n",
    "\n",
    "# Compute ROC curve values\n",
    "fpr, tpr, thresholds = roc_curve(y_test, y_probs)\n",
    "\n",
    "# Compute the ROC AUC score as a measure of the model's performance\n",
    "roc_auc = roc_auc_score(y_test, y_probs)\n",
    "\n",
    "# Plotting the ROC curve\n",
    "plt.figure(figsize=(6, 6))\n",
    "plt.plot(fpr, tpr, color='blue', lw=2, label=f'ROC curve (area = {roc_auc:.2f})')\n",
    "plt.plot([0, 1], [0, 1], color='darkgray', lw=2, linestyle='--', label='Chance level')\n",
    "plt.xlim([0.0, 1.0])\n",
    "plt.ylim([0.0, 1.05])\n",
    "plt.xlabel('False Positive Rate')\n",
    "plt.ylabel('True Positive Rate')\n",
    "plt.title('Receiver Operating Characteristic (ROC)')\n",
    "plt.legend(loc=\"lower right\")\n",
    "plt.show()"
   ]
  },
  {
   "cell_type": "markdown",
   "id": "27ce8b69-a111-4c75-8694-21e45266dcc3",
   "metadata": {},
   "source": [
    "### Plotting Confusion Matrix\n",
    "\n",
    "The confusion matrix is a critical metric for evaluating the performance of a classifier. It shows the actual versus predicted classifications and provides insight into the types of errors made by the classifier. Seaborn's heatmap provides a visually appealing and informative way to display the confusion matrix.\n",
    "\n",
    "Steps to plot a confusion matrix:\n",
    "1. Generate the confusion matrix using confusion_matrix.\n",
    "2. Use Seaborn's heatmap function to create the heatmap visualization."
   ]
  },
  {
   "cell_type": "code",
   "execution_count": 13,
   "id": "a8f3487e-e82e-453d-9bac-2f2c1302e283",
   "metadata": {},
   "outputs": [
    {
     "data": {
      "image/png": "[encoded data removed]",
      "text/plain": [
       "<Figure size 400x400 with 1 Axes>"
      ]
     },
     "metadata": {},
     "output_type": "display_data"
    }
   ],
   "source": [
    "# Generate the confusion matrix from the true labels and predictions\n",
    "conf_mat = confusion_matrix(y_test, y_preds)\n",
    "\n",
    "# Plotting the confusion matrix using Seaborn's heatmap\n",
    "plt.figure(figsize=(4, 4))  \n",
    "ax = sns.heatmap(conf_mat, annot=True, fmt='g', cmap='Blues', cbar=False)\n",
    "ax.set_xlabel('Predicted labels') \n",
    "ax.set_ylabel('True labels')       \n",
    "ax.set_title('Confusion Matrix')   \n",
    "\n",
    "# Adjust the layout to make room for the x-axis and y-axis labels\n",
    "plt.tight_layout()\n",
    "\n",
    "plt.show()"
   ]
  },
  {
   "cell_type": "markdown",
   "id": "620d7023-0604-4c4c-a9e0-c5c2898ecc14",
   "metadata": {},
   "source": [
    "### Calculate evaluation metrics using cross-validation\n",
    "\n",
    "Cross-validation is a resampling procedure used to evaluate machine learning models on a limited data sample. The goal is to assess how the results of a statistical analysis will generalize to an independent data set. It's particularly useful in scenarios where the goal is to predict the outcome and one wants to estimate how accurately a predictive model will perform in practice.\n",
    "\n",
    "The primary metrics used to evaluate a classification model include accuracy, precision, recall, and the F1 score. Below, we calculate these metrics using cross-validation to gain a more accurate estimation by averaging the metric over several different partitions of the data."
   ]
  },
  {
   "attachments": {
    "1425145c-642a-4efd-affd-54f198c9fee3.png": {
     "image/png": "[encoded data removed]"
    }
   },
   "cell_type": "markdown",
   "id": "c0e2b14b-4eb1-468c-a005-e2528407e49a",
   "metadata": {},
   "source": [
    "![cross validation.png](attachment:1425145c-642a-4efd-affd-54f198c9fee3.png)"
   ]
  },
  {
   "cell_type": "code",
   "execution_count": 14,
   "id": "c6bd2450-9931-4a4b-b858-86fc7ee07c7a",
   "metadata": {},
   "outputs": [
    {
     "name": "stdout",
     "output_type": "stream",
     "text": [
      "Cross-validated accuracy: 0.825\n",
      "Cross-validated precision: 0.820\n",
      "Cross-validated recall: 0.879\n",
      "Cross-validated F1 score: 0.847\n"
     ]
    }
   ],
   "source": [
    "# Cross-validated accuracy\n",
    "cv_acc = cross_val_score(clf, X, y, cv=5, scoring=\"accuracy\")\n",
    "cv_acc_mean = np.mean(cv_acc)\n",
    "\n",
    "# Cross-validated precision\n",
    "cv_precision = cross_val_score(clf, X, y, cv=5, scoring=\"precision\")\n",
    "cv_precision_mean = np.mean(cv_precision)\n",
    "\n",
    "# Cross-validated recall\n",
    "cv_recall = cross_val_score(clf, X, y, cv=5, scoring=\"recall\")\n",
    "cv_recall_mean = np.mean(cv_recall)\n",
    "\n",
    "# Cross-validated F1 score\n",
    "cv_f1 = cross_val_score(clf, X, y, cv=5, scoring=\"f1\")\n",
    "cv_f1_mean = np.mean(cv_f1)\n",
    "\n",
    "# Output the mean cross-validated scores\n",
    "print(f\"Cross-validated accuracy: {cv_acc_mean:.3f}\")\n",
    "print(f\"Cross-validated precision: {cv_precision_mean:.3f}\")\n",
    "print(f\"Cross-validated recall: {cv_recall_mean:.3f}\")\n",
    "print(f\"Cross-validated F1 score: {cv_f1_mean:.3f}\")"
   ]
  },
  {
   "cell_type": "markdown",
   "id": "ab8d0bd5-b26f-48e3-9dae-60f7aecc78d0",
   "metadata": {},
   "source": [
    "## 5. Model Improvement\n",
    "\n",
    "Improving a machine learning model's baseline metrics is crucial for achieving better predictive performance. In this section, we explore two primary avenues for model improvement: **data enhancements**  and **model enhancements**.\n",
    "\n",
    "**Data perspective**:\n",
    "\n",
    "Collect More Data\n",
    "* One potential improvement is to collect more data. In machine learning, a larger dataset often leads to better model performance. More data provides the model with additional opportunities to learn intricate patterns and relationships within the data.\n",
    "\n",
    "Improve Data Quality\n",
    "* Data quality matters. Enhancing data quality can involve addressing missing values, cleaning noisy data, or adopting a better data encoding strategy, such as transforming non-numeric data into numerical form.\n",
    "\n",
    "**Model perspective**:\n",
    "\n",
    "Consider Better Models\n",
    "* Evaluating the choice of the model itself is essential. If you've initially started with a simple model, consider exploring more complex ones. For instance, the Scikit-Learn machine learning map suggests that ensemble methods are generally considered more complex models.\n",
    "\n",
    "Hyperparameter Tuning (**focus of this section**)\n",
    "* Hyperparameters are model settings that you can adjust to alter the way the model learns patterns. Fine-tuning hyperparameters, known as hyperparameter tuning, can significantly improve a model's performance.\n",
    "\n"
   ]
  },
  {
   "cell_type": "markdown",
   "id": "166ec565-e9e9-427c-b5bd-310042e06dec",
   "metadata": {},
   "source": [
    "### How to find a Model's Hyperparameters\n",
    "\n",
    "Understanding the hyperparameters of a model is crucial for tuning it to achieve the best performance. Each model in Scikit-Learn comes with a set of configurable hyperparameters that control the learning process. To inspect these hyperparameters and their current values, we can use the get_params() method.\n",
    "\n",
    "Here's how you can retrieve the hyperparameters of a logistic regression model, for example:"
   ]
  },
  {
   "cell_type": "code",
   "execution_count": 15,
   "id": "2f05ffb4-fbd6-4f35-80e4-4bd713d772b9",
   "metadata": {},
   "outputs": [
    {
     "data": {
      "text/plain": [
       "{'C': 1.0,\n",
       " 'class_weight': None,\n",
       " 'dual': False,\n",
       " 'fit_intercept': True,\n",
       " 'intercept_scaling': 1,\n",
       " 'l1_ratio': None,\n",
       " 'max_iter': 100,\n",
       " 'multi_class': 'auto',\n",
       " 'n_jobs': None,\n",
       " 'penalty': 'l2',\n",
       " 'random_state': None,\n",
       " 'solver': 'lbfgs',\n",
       " 'tol': 0.0001,\n",
       " 'verbose': 0,\n",
       " 'warm_start': False}"
      ]
     },
     "execution_count": 15,
     "metadata": {},
     "output_type": "execute_result"
    }
   ],
   "source": [
    "clf.get_params()"
   ]
  },
  {
   "cell_type": "markdown",
   "id": "8c539850-0f5c-4019-a557-0615b042ae2e",
   "metadata": {},
   "source": [
    "### Hyperparameter Tuning (by Hand)\n",
    "One common method for tuning hyperparameters is manual tuning, where you experiment with different values to find the best configuration. In this section, we demonstrate how to manually tune the n_neighbors hyperparameter for a **K-Nearest Neighbors (KNN)** classifier."
   ]
  },
  {
   "cell_type": "code",
   "execution_count": 16,
   "id": "16a3ef12-a339-4ef0-b408-bf9d8626f761",
   "metadata": {},
   "outputs": [
    {
     "name": "stdout",
     "output_type": "stream",
     "text": [
      "Training Scores: [1.0, 0.8099173553719008, 0.7727272727272727, 0.743801652892562, 0.7603305785123967, 0.7520661157024794, 0.743801652892562, 0.7231404958677686, 0.71900826446281, 0.6942148760330579, 0.7272727272727273, 0.6983471074380165, 0.6900826446280992, 0.6942148760330579, 0.6859504132231405, 0.6735537190082644, 0.6859504132231405, 0.6652892561983471, 0.6818181818181818, 0.6694214876033058]\n",
      "\n",
      "\n",
      "Test Scores: [0.6229508196721312, 0.639344262295082, 0.6557377049180327, 0.6721311475409836, 0.6885245901639344, 0.7213114754098361, 0.7049180327868853, 0.6885245901639344, 0.6885245901639344, 0.7049180327868853, 0.7540983606557377, 0.7377049180327869, 0.7377049180327869, 0.7377049180327869, 0.6885245901639344, 0.7213114754098361, 0.6885245901639344, 0.6885245901639344, 0.7049180327868853, 0.6557377049180327]\n"
     ]
    }
   ],
   "source": [
    "# Tune KNN (using n_neighbors hyperparameter)\n",
    "train_scores = []\n",
    "test_scores = []\n",
    "\n",
    "# Create a list of different values for n_neighbors\n",
    "neighbors = range(1, 21)\n",
    "\n",
    "# Initialize a KNN instance\n",
    "knn = KNeighborsClassifier()\n",
    "\n",
    "# Loop through n_neighbors\n",
    "for i in neighbors:\n",
    "    knn.set_params(n_neighbors=i)\n",
    "    \n",
    "    # Fit the algorithm\n",
    "    knn.fit(X_train, y_train)\n",
    "    \n",
    "    # Update the training scores list\n",
    "    train_scores.append(knn.score(X_train, y_train))\n",
    "    \n",
    "    # Update the test scores list\n",
    "    test_scores.append(knn.score(X_test, y_test))\n",
    "\n",
    "# Display the training scores and test scores\n",
    "print(\"Training Scores:\", train_scores)\n",
    "print(\"\\n\")\n",
    "print(\"Test Scores:\", test_scores)\n"
   ]
  },
  {
   "cell_type": "code",
   "execution_count": 17,
   "id": "98283de7-b1ee-4250-b879-3c7030d5408d",
   "metadata": {},
   "outputs": [
    {
     "name": "stdout",
     "output_type": "stream",
     "text": [
      "Maximum KNN score on the test data: 75.41% (Number of Neighbors: 11)\n"
     ]
    },
    {
     "data": {
      "image/png": "[encoded data removed]",
      "text/plain": [
       "<Figure size 1000x600 with 1 Axes>"
      ]
     },
     "metadata": {},
     "output_type": "display_data"
    }
   ],
   "source": [
    "# Plot training and test scores\n",
    "plt.figure(figsize=(10, 6))\n",
    "plt.plot(neighbors, train_scores, label=\"Train score\", marker='o')\n",
    "plt.plot(neighbors, test_scores, label=\"Test score\", marker='o')\n",
    "\n",
    "# Customize the plot\n",
    "plt.xticks(np.arange(1, 21, 1))\n",
    "plt.xlabel(\"Number of Neighbors\")\n",
    "plt.ylabel(\"Model Score\")\n",
    "plt.title(\"KNN Model Performance vs. Number of Neighbors\")\n",
    "plt.legend()\n",
    "\n",
    "# Find the index of the maximum test score\n",
    "max_test_score_index = np.argmax(test_scores)\n",
    "max_test_score = test_scores[max_test_score_index] * 100\n",
    "optimal_neighbors = neighbors[max_test_score_index]\n",
    "\n",
    "# Show the maximum test score and the corresponding number of neighbors as a statement\n",
    "print(f\"Maximum KNN score on the test data: {max_test_score:.2f}% (Number of Neighbors: {optimal_neighbors})\")\n",
    "\n",
    "# Show the plot\n",
    "plt.grid(True)\n",
    "plt.tight_layout()\n",
    "plt.show()"
   ]
  },
  {
   "cell_type": "markdown",
   "id": "9244a066-9645-465f-9fb7-90cc342fb60f",
   "metadata": {},
   "source": [
    "### Hyperparameter Tuning (RandomizedSearchCV)\n",
    "\n",
    "In this section, we'll explore the process of hyperparameter tuning using RandomizedSearchCV for two machine learning models: Logistic Regression and Random Forest Classifier. Hyperparameter tuning aims to find the best combination of hyperparameters to optimize model performance.\n",
    "\n",
    "First, we define the hyperparameter grids for each model:"
   ]
  },
  {
   "cell_type": "code",
   "execution_count": 18,
   "id": "f8343644-4d41-41c8-b597-8e7aa91ab964",
   "metadata": {},
   "outputs": [],
   "source": [
    "# Create hyperparameter grid for LogisticRegression\n",
    "log_reg_grid = {\n",
    "    \"C\": np.logspace(-4, 4, 20),\n",
    "    \"solver\": [\"liblinear\"]\n",
    "}\n",
    "\n",
    "\n",
    "# Create hyperparameter grid for RandomForestClassifier\n",
    "rf_grid = {\n",
    "    \"n_estimators\": np.arange(10, 1000, 50),\n",
    "    \"max_depth\": [None, 3, 5, 10],\n",
    "    \"min_samples_split\": np.arange(2, 20, 2),\n",
    "    \"min_samples_leaf\": np.arange(1, 20, 2)\n",
    "}\n"
   ]
  },
  {
   "cell_type": "markdown",
   "id": "b42cd373-bb66-40fc-8219-51d5c1cfe0be",
   "metadata": {},
   "source": [
    "We'll begin by tuning the hyperparameters of the Logistic Regression model:"
   ]
  },
  {
   "cell_type": "code",
   "execution_count": 19,
   "id": "c300ff03-a100-43cc-b84f-2a37e7a0d2aa",
   "metadata": {},
   "outputs": [
    {
     "name": "stdout",
     "output_type": "stream",
     "text": [
      "Fitting 5 folds for each of 20 candidates, totalling 100 fits\n",
      "{'solver': 'liblinear', 'C': 0.23357214690901212}\n",
      "0.8852459016393442\n"
     ]
    }
   ],
   "source": [
    "# Set a random seed for reproducibility\n",
    "np.random.seed(42)\n",
    "\n",
    "# Setup a RandomizedSearchCV for LogisticRegression\n",
    "rs_log_reg = RandomizedSearchCV(\n",
    "    estimator=LogisticRegression(),\n",
    "    param_distributions=log_reg_grid,\n",
    "    cv=5,\n",
    "    n_iter=20,\n",
    "    verbose=True\n",
    ")\n",
    "\n",
    "# Fit the RandomizedSearchCV model for LogisticRegression\n",
    "rs_log_reg.fit(X_train, y_train)\n",
    "\n",
    "# Best hyperparameters for LogisticRegression\n",
    "print(rs_log_reg.best_params_)\n",
    "\n",
    "# Evaluate the randomized search Logistic Regression model\n",
    "print(rs_log_reg.score(X_test, y_test))"
   ]
  },
  {
   "cell_type": "markdown",
   "id": "9878740d-9cba-43f7-aa4b-05321a548ec9",
   "metadata": {},
   "source": [
    "We'll repeat by tuning the hyperparameters of the Random Forest Classifier:"
   ]
  },
  {
   "cell_type": "code",
   "execution_count": 20,
   "id": "9269f3a1-f03d-4afd-b0be-c56193b3d95f",
   "metadata": {},
   "outputs": [
    {
     "name": "stdout",
     "output_type": "stream",
     "text": [
      "Fitting 5 folds for each of 20 candidates, totalling 100 fits\n",
      "{'n_estimators': 210, 'min_samples_split': 4, 'min_samples_leaf': 19, 'max_depth': 3}\n",
      "0.8688524590163934\n"
     ]
    }
   ],
   "source": [
    " # Set a random seed for reproducibility\n",
    "np.random.seed(42)\n",
    "\n",
    "# Setup a RandomizedSearchCV for RandomForestClassifier\n",
    "rs_rf = RandomizedSearchCV(\n",
    "    estimator=RandomForestClassifier(),\n",
    "    param_distributions=rf_grid,\n",
    "    cv=5,\n",
    "    n_iter=20,\n",
    "    verbose=True\n",
    ")\n",
    "\n",
    "# Fit the RandomizedSearchCV model for RandomForestClassifier\n",
    "rs_rf.fit(X_train, y_train)\n",
    "\n",
    "# Best hyperparameters for RandomForestClassifier\n",
    "print(rs_rf.best_params_)\n",
    "\n",
    "# Evaluate the randomized search Logistic Regression model\n",
    "print(rs_rf.score(X_test, y_test))"
   ]
  },
  {
   "cell_type": "markdown",
   "id": "7fc4fead-c499-474c-b64a-08d3c264410a",
   "metadata": {},
   "source": [
    "### Hyperparameter Tuning (GridSearchCV)\n",
    "We aim to further improve the performance of our Logistic Regression model by utilizing GridSearchCV. GridSearchCV systematically searches through a specified hyperparameter grid to find the best combination of hyperparameters for our model.\n",
    "\n",
    "We define the hyperparameter grid for Logistic Regression with different values of C:"
   ]
  },
  {
   "cell_type": "markdown",
   "id": "bd2175e0-6dd6-4f07-8d3a-d7813b0b2d65",
   "metadata": {},
   "source": [
    "log_reg_grid = {\n",
    "    \"C\": np.logspace(-4, 4, 30),\n",
    "    \"solver\": [\"liblinear\"]\n",
    "}"
   ]
  },
  {
   "cell_type": "markdown",
   "id": "812d0eaa-20f3-44b8-9f4b-955384c5ebf5",
   "metadata": {},
   "source": [
    "We proceed with tuning the hyperparameters of the Logistic Regression model using GridSearchCV:"
   ]
  },
  {
   "cell_type": "code",
   "execution_count": 21,
   "id": "c8f9d2c3-c354-4543-b266-09ea8f98f2b5",
   "metadata": {},
   "outputs": [
    {
     "name": "stdout",
     "output_type": "stream",
     "text": [
      "Fitting 5 folds for each of 20 candidates, totalling 100 fits\n",
      "{'C': 0.23357214690901212, 'solver': 'liblinear'}\n",
      "0.8852459016393442\n"
     ]
    }
   ],
   "source": [
    "# Setup grid hyperparameter search for LogisticRegression\n",
    "gs_log_reg = GridSearchCV(\n",
    "    estimator=LogisticRegression(),\n",
    "    param_grid=log_reg_grid,\n",
    "    cv=5,\n",
    "    verbose=True\n",
    ")\n",
    "\n",
    "# Fit the grid hyperparameter search model\n",
    "gs_log_reg.fit(X_train, y_train)\n",
    "\n",
    "# Best hyperparameters for LogisticRegression\n",
    "print(gs_log_reg.best_params_)\n",
    "\n",
    "# Evaluate the grid search LogisticRegression model on the test data\n",
    "print(gs_log_reg.score(X_test, y_test))"
   ]
  },
  {
   "cell_type": "markdown",
   "id": "38ebce28-ca5b-4eba-9bc5-cb85d6fc6f4c",
   "metadata": {},
   "source": [
    "## 6. Model Deployment\n",
    "\n",
    "We'll discuss how to save and load a machine learning model using the pickle library. Saving and loading models is a crucial step when deploying machine learning models for future use or sharing them with others.\n",
    "\n",
    "You can save an existing model to a file using the pickle library. Here's how it's done:"
   ]
  },
  {
   "cell_type": "code",
   "execution_count": 23,
   "id": "6390be4e-09ca-4351-a5da-030d019e3502",
   "metadata": {},
   "outputs": [],
   "source": [
    "import pickle\n",
    "\n",
    "# Save an existing model to a file\n",
    "pickle.dump(rs_rf, open(\"rs_random_forest_model_1.pkl\", \"wb\"))"
   ]
  },
  {
   "cell_type": "markdown",
   "id": "ca62f4f7-f948-4d76-b169-f183bac99d88",
   "metadata": {},
   "source": [
    "To load a saved pickle model, follow these steps:"
   ]
  },
  {
   "cell_type": "code",
   "execution_count": 24,
   "id": "9c292444-a733-41fc-81f1-19a0aa77f559",
   "metadata": {},
   "outputs": [],
   "source": [
    "# Load a saved pickle model\n",
    "loaded_pickle_model = pickle.load(open(\"rs_random_forest_model_1.pkl\", \"rb\"))"
   ]
  },
  {
   "cell_type": "markdown",
   "id": "2bcf5bcf-d4c5-4c09-863f-62f53c0e3a12",
   "metadata": {},
   "source": [
    "Once the model is loaded, you can evaluate its performance on new data:"
   ]
  },
  {
   "cell_type": "code",
   "execution_count": 25,
   "id": "69d29395-0bfe-4b80-8710-eacc4c72fe40",
   "metadata": {},
   "outputs": [
    {
     "data": {
      "text/plain": [
       "0.8688524590163934"
      ]
     },
     "execution_count": 25,
     "metadata": {},
     "output_type": "execute_result"
    }
   ],
   "source": [
    "# Evaluate the loaded model on test data\n",
    "loaded_pickle_model.score(X_test, y_test)"
   ]
  }
 ],
 "metadata": {
  "kernelspec": {
   "display_name": "Python 3 (ipykernel)",
   "language": "python",
   "name": "python3"
  },
  "language_info": {
   "codemirror_mode": {
    "name": "ipython",
    "version": 3
   },
   "file_extension": ".py",
   "mimetype": "text/x-python",
   "name": "python",
   "nbconvert_exporter": "python",
   "pygments_lexer": "ipython3",
   "version": "3.10.13"
  }
 },
 "nbformat": 4,
 "nbformat_minor": 5
}
