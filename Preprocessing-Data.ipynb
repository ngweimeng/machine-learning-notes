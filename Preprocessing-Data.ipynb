{
 "cells": [
  {
   "cell_type": "markdown",
   "id": "99b48ed2-dc9f-47a2-94be-e6d4c21532c8",
   "metadata": {},
   "source": [
    "# Data Preprocessing for Machine Learning\n",
    "\n",
    "Before feeding data into a machine learning model, it's crucial to preprocess the data to ensure it's in a usable format. Preprocessing can include:\n",
    "\n",
    "1. Handling missing values\n",
    "2. Handling non-numerical values"
   ]
  },
  {
   "cell_type": "markdown",
   "id": "628c8a2e-ba42-4199-a827-51703253c30f",
   "metadata": {},
   "source": [
    "## 1. Handling Missing Values\n",
    "\n",
    "Missing data can distort the performance of machine learning models. There are several strategies to handle missing values:\n",
    "\n",
    "- **Imputation**: Replace missing values with a statistic like the mean, median, or mode of the column.\n",
    "- **Deletion**: Remove records with missing values, which is feasible if the number of these records is insignificant.\n",
    "\n",
    "> **Note**: The choice of strategy depends on the context and proportion of missing data. \n",
    "\n",
    "Below we'll import a dataset and demonstrate how to identify and handle missing values."
   ]
  },
  {
   "cell_type": "code",
   "execution_count": 1,
   "id": "1d9b1f48-3f37-4f93-9696-f1605814e9b5",
   "metadata": {},
   "outputs": [
    {
     "data": {
      "text/html": [
       "<div>\n",
       "<style scoped>\n",
       "    .dataframe tbody tr th:only-of-type {\n",
       "        vertical-align: middle;\n",
       "    }\n",
       "\n",
       "    .dataframe tbody tr th {\n",
       "        vertical-align: top;\n",
       "    }\n",
       "\n",
       "    .dataframe thead th {\n",
       "        text-align: right;\n",
       "    }\n",
       "</style>\n",
       "<table border=\"1\" class=\"dataframe\">\n",
       "  <thead>\n",
       "    <tr style=\"text-align: right;\">\n",
       "      <th></th>\n",
       "      <th>Make</th>\n",
       "      <th>Colour</th>\n",
       "      <th>Odometer (KM)</th>\n",
       "      <th>Doors</th>\n",
       "      <th>Price</th>\n",
       "    </tr>\n",
       "  </thead>\n",
       "  <tbody>\n",
       "    <tr>\n",
       "      <th>0</th>\n",
       "      <td>Honda</td>\n",
       "      <td>White</td>\n",
       "      <td>35431.0</td>\n",
       "      <td>4.0</td>\n",
       "      <td>15323.0</td>\n",
       "    </tr>\n",
       "    <tr>\n",
       "      <th>1</th>\n",
       "      <td>BMW</td>\n",
       "      <td>Blue</td>\n",
       "      <td>192714.0</td>\n",
       "      <td>5.0</td>\n",
       "      <td>19943.0</td>\n",
       "    </tr>\n",
       "    <tr>\n",
       "      <th>2</th>\n",
       "      <td>Honda</td>\n",
       "      <td>White</td>\n",
       "      <td>84714.0</td>\n",
       "      <td>4.0</td>\n",
       "      <td>28343.0</td>\n",
       "    </tr>\n",
       "    <tr>\n",
       "      <th>3</th>\n",
       "      <td>Toyota</td>\n",
       "      <td>White</td>\n",
       "      <td>154365.0</td>\n",
       "      <td>4.0</td>\n",
       "      <td>13434.0</td>\n",
       "    </tr>\n",
       "    <tr>\n",
       "      <th>4</th>\n",
       "      <td>Nissan</td>\n",
       "      <td>Blue</td>\n",
       "      <td>181577.0</td>\n",
       "      <td>3.0</td>\n",
       "      <td>14043.0</td>\n",
       "    </tr>\n",
       "    <tr>\n",
       "      <th>5</th>\n",
       "      <td>Honda</td>\n",
       "      <td>Red</td>\n",
       "      <td>42652.0</td>\n",
       "      <td>4.0</td>\n",
       "      <td>23883.0</td>\n",
       "    </tr>\n",
       "    <tr>\n",
       "      <th>6</th>\n",
       "      <td>Toyota</td>\n",
       "      <td>Blue</td>\n",
       "      <td>163453.0</td>\n",
       "      <td>4.0</td>\n",
       "      <td>8473.0</td>\n",
       "    </tr>\n",
       "    <tr>\n",
       "      <th>7</th>\n",
       "      <td>Honda</td>\n",
       "      <td>White</td>\n",
       "      <td>NaN</td>\n",
       "      <td>4.0</td>\n",
       "      <td>20306.0</td>\n",
       "    </tr>\n",
       "    <tr>\n",
       "      <th>8</th>\n",
       "      <td>NaN</td>\n",
       "      <td>White</td>\n",
       "      <td>130538.0</td>\n",
       "      <td>4.0</td>\n",
       "      <td>9374.0</td>\n",
       "    </tr>\n",
       "    <tr>\n",
       "      <th>9</th>\n",
       "      <td>Honda</td>\n",
       "      <td>Blue</td>\n",
       "      <td>51029.0</td>\n",
       "      <td>4.0</td>\n",
       "      <td>26683.0</td>\n",
       "    </tr>\n",
       "  </tbody>\n",
       "</table>\n",
       "</div>"
      ],
      "text/plain": [
       "     Make Colour  Odometer (KM)  Doors    Price\n",
       "0   Honda  White        35431.0    4.0  15323.0\n",
       "1     BMW   Blue       192714.0    5.0  19943.0\n",
       "2   Honda  White        84714.0    4.0  28343.0\n",
       "3  Toyota  White       154365.0    4.0  13434.0\n",
       "4  Nissan   Blue       181577.0    3.0  14043.0\n",
       "5   Honda    Red        42652.0    4.0  23883.0\n",
       "6  Toyota   Blue       163453.0    4.0   8473.0\n",
       "7   Honda  White            NaN    4.0  20306.0\n",
       "8     NaN  White       130538.0    4.0   9374.0\n",
       "9   Honda   Blue        51029.0    4.0  26683.0"
      ]
     },
     "execution_count": 1,
     "metadata": {},
     "output_type": "execute_result"
    }
   ],
   "source": [
    "### Import Libraries\n",
    "import pandas as pd\n",
    "import numpy as np\n",
    "from sklearn.model_selection import train_test_split\n",
    "\n",
    "# Load Dataframe\n",
    "car_sales_df = pd.read_csv(\"data/car-sales.csv\")\n",
    "car_sales_df.head(10)"
   ]
  },
  {
   "cell_type": "code",
   "execution_count": 2,
   "id": "63b09b55-16c2-4617-83b9-5129e4025fd7",
   "metadata": {},
   "outputs": [
    {
     "data": {
      "text/plain": [
       "Make             49\n",
       "Colour           50\n",
       "Odometer (KM)    50\n",
       "Doors            50\n",
       "Price            50\n",
       "dtype: int64"
      ]
     },
     "execution_count": 2,
     "metadata": {},
     "output_type": "execute_result"
    }
   ],
   "source": [
    "# Display number of missing values in each column\n",
    "car_sales_df.isna().sum()"
   ]
  },
  {
   "cell_type": "markdown",
   "id": "a83ad1d8-3f8a-4b1a-9652-fb56c906c98d",
   "metadata": {},
   "source": [
    "### 1.1 Fill Missing Data with pandas\n",
    "\n",
    "To handle missing data effectively, we differentiate between categorical and numerical features. We will fill missing categorical values with a placeholder label \"missing\" and use statistical methods for numerical features. For sensitive fields like 'Price', which is also our target variable, we will remove rows to avoid creating false labels that could mislead our model.\n",
    "\n",
    "> **Note**: Imputation is a common practice for dealing with missing data, but there's no one-size-fits-all solution. The method you choose should be informed by the nature of your dataset and the specific characteristics of the missing data. For more advanced techniques, research \"data imputation techniques\"."
   ]
  },
  {
   "cell_type": "code",
   "execution_count": 3,
   "id": "28c51e2c-8b59-49e5-89d5-86dafa278521",
   "metadata": {},
   "outputs": [
    {
     "name": "stdout",
     "output_type": "stream",
     "text": [
      "Make              0\n",
      "Colour            0\n",
      "Odometer (KM)     0\n",
      "Doors             0\n",
      "Price            50\n",
      "dtype: int64\n"
     ]
    }
   ],
   "source": [
    "# Fill missing values for categorical features with the placeholder 'missing'\n",
    "car_sales_df[\"Make\"].fillna(\"missing\", inplace=True)\n",
    "car_sales_df[\"Colour\"].fillna(\"missing\", inplace=True)\n",
    "\n",
    "# For the numerical feature 'Odometer (KM)', we calculate the mean and use it to fill missing values\n",
    "# Ensure there are non-missing values to calculate the mean, otherwise, skip this step\n",
    "car_sales_df[\"Odometer (KM)\"].fillna(car_sales_df[\"Odometer (KM)\"].mean(), inplace=True)\n",
    "\n",
    "# Assuming '4' is the mode or most common value for the 'Doors' feature\n",
    "car_sales_df[\"Doors\"].fillna(4, inplace=True)\n",
    "\n",
    "# Display the number of missing values for each column to verify no missing data remains\n",
    "print(car_sales_df.isna().sum())"
   ]
  },
  {
   "cell_type": "code",
   "execution_count": 4,
   "id": "5b7f5ece-121a-4a80-9b22-60ab883763e3",
   "metadata": {},
   "outputs": [
    {
     "name": "stdout",
     "output_type": "stream",
     "text": [
      "Make             0\n",
      "Colour           0\n",
      "Odometer (KM)    0\n",
      "Doors            0\n",
      "Price            0\n",
      "dtype: int64\n"
     ]
    }
   ],
   "source": [
    "# Remove rows where the target variable 'Price' is missing as imputation might introduce bias\n",
    "car_sales_df.dropna(subset=['Price'], inplace=True)\n",
    "\n",
    "# Check again for missing values to confirm 'Price' rows are removed\n",
    "print(car_sales_df.isna().sum())"
   ]
  },
  {
   "cell_type": "markdown",
   "id": "f471e6f7-234b-4baa-8edc-8f7f05211d9a",
   "metadata": {},
   "source": [
    "### 1.2 Fill Missing Data with scikit-learn's SimpleImputer\n",
    "\n",
    "Scikit-learn's `SimpleImputer` class provides a convenient way to handle missing values using various strategies. For categorical data, we can fill in missing values with a placeholder, such as 'missing', and for numerical data, we can replace missing values with the mean of the available values.\n",
    "\n",
    "First we will need to reimport the data and check for missing values"
   ]
  },
  {
   "cell_type": "code",
   "execution_count": 5,
   "id": "37b5caff-323a-4c48-8994-cd0c563efaab",
   "metadata": {},
   "outputs": [
    {
     "data": {
      "text/plain": [
       "Make             49\n",
       "Colour           50\n",
       "Odometer (KM)    50\n",
       "Doors            50\n",
       "Price            50\n",
       "dtype: int64"
      ]
     },
     "execution_count": 5,
     "metadata": {},
     "output_type": "execute_result"
    }
   ],
   "source": [
    "# Reimport the DataFrame\n",
    "car_sales_df = pd.read_csv(\"data/car-sales.csv\")\n",
    "car_sales_df.isna().sum()"
   ]
  },
  {
   "cell_type": "markdown",
   "id": "3352ca19-98e0-4aa1-a372-b537a0e10f73",
   "metadata": {},
   "source": [
    "We'll remove rows with missing target values ('Price') to avoid introducing inaccuracies into our model:"
   ]
  },
  {
   "cell_type": "code",
   "execution_count": 6,
   "id": "08faede1-ddcb-4483-b590-72709e4a37d0",
   "metadata": {},
   "outputs": [
    {
     "data": {
      "text/plain": [
       "Make             47\n",
       "Colour           46\n",
       "Odometer (KM)    48\n",
       "Doors            47\n",
       "Price             0\n",
       "dtype: int64"
      ]
     },
     "execution_count": 6,
     "metadata": {},
     "output_type": "execute_result"
    }
   ],
   "source": [
    "# Drop the rows with missing in the \"Price\" column\n",
    "car_sales_df.dropna(subset=[\"Price\"], inplace=True)\n",
    "car_sales_df.isna().sum()"
   ]
  },
  {
   "cell_type": "markdown",
   "id": "c3f03cbe-52b8-4004-ba29-54ebe9ab947c",
   "metadata": {},
   "source": [
    "It is crucial to split the data into training and test sets before any imputation. This is to prevent data leakage from the test set into the training set, which can lead to overly optimistic performance estimates. We learn the imputation parameters (e.g., the mean of a column) from the training set to avoid any influence from the test set."
   ]
  },
  {
   "cell_type": "code",
   "execution_count": 7,
   "id": "beaf08aa-1606-46fa-9c06-7977d66a35d6",
   "metadata": {},
   "outputs": [],
   "source": [
    "# Split the data into features and target\n",
    "X = car_sales_df.drop(\"Price\", axis=1)\n",
    "y = car_sales_df[\"Price\"]\n",
    "\n",
    "# Split the data into training and test sets to prevent data leakage during imputation\n",
    "np.random.seed(42)\n",
    "X_train, X_test, y_train, y_test = train_test_split(X, y, test_size=0.2)"
   ]
  },
  {
   "cell_type": "code",
   "execution_count": 8,
   "id": "5a0bb682-4a7f-46d0-9211-254ec8372952",
   "metadata": {},
   "outputs": [],
   "source": [
    "from sklearn.impute import SimpleImputer\n",
    "from sklearn.compose import ColumnTransformer\n",
    "\n",
    "# Imputation strategies\n",
    "cat_imputer = SimpleImputer(strategy=\"constant\", fill_value=\"missing\")\n",
    "door_imputer = SimpleImputer(strategy=\"constant\", fill_value=4)\n",
    "num_imputer = SimpleImputer(strategy=\"mean\")\n",
    "\n",
    "# Columns to apply imputers\n",
    "categorical_features = [\"Make\", \"Colour\"]\n",
    "door_feature = [\"Doors\"]\n",
    "numerical_feature = [\"Odometer (KM)\"]\n",
    "\n",
    "# Column transformer\n",
    "imputer = ColumnTransformer([\n",
    "    (\"cat_imputer\", cat_imputer, categorical_features),\n",
    "    (\"door_imputer\", door_imputer, door_feature),\n",
    "    (\"num_imputer\", num_imputer, numerical_feature)\n",
    "])"
   ]
  },
  {
   "cell_type": "markdown",
   "id": "c4ca0790-0d08-4bbf-9959-82b0671de2a6",
   "metadata": {},
   "source": [
    "We apply fit_transform() to the training data to learn the imputation parameters, and then we use transform() on the test data to apply these parameters without learning from the test data."
   ]
  },
  {
   "cell_type": "code",
   "execution_count": 9,
   "id": "d187fc99-6b11-4c2a-b30c-5a6fc91a154a",
   "metadata": {},
   "outputs": [],
   "source": [
    "# Fit the imputers on the training set and transform both the training and test sets\n",
    "filled_X_train = imputer.fit_transform(X_train)\n",
    "filled_X_test = imputer.transform(X_test)"
   ]
  },
  {
   "cell_type": "code",
   "execution_count": 10,
   "id": "43248087-952c-4d53-8ed4-701c6cdb4b69",
   "metadata": {},
   "outputs": [
    {
     "data": {
      "text/plain": [
       "array([['Honda', 'White', 4.0, 71934.0],\n",
       "       ['Toyota', 'Red', 4.0, 162665.0],\n",
       "       ['Honda', 'White', 4.0, 42844.0],\n",
       "       ...,\n",
       "       ['Toyota', 'White', 4.0, 196225.0],\n",
       "       ['Honda', 'Blue', 4.0, 133117.0],\n",
       "       ['Honda', 'missing', 4.0, 150582.0]], dtype=object)"
      ]
     },
     "execution_count": 10,
     "metadata": {},
     "output_type": "execute_result"
    }
   ],
   "source": [
    "# Verify filled X_train\n",
    "filled_X_train"
   ]
  },
  {
   "cell_type": "code",
   "execution_count": 11,
   "id": "858251c0-051f-4eb9-aa52-2e194e99304f",
   "metadata": {},
   "outputs": [
    {
     "data": {
      "text/plain": [
       "Make             0\n",
       "Colour           0\n",
       "Odometer (KM)    0\n",
       "Doors            0\n",
       "dtype: int64"
      ]
     },
     "execution_count": 11,
     "metadata": {},
     "output_type": "execute_result"
    }
   ],
   "source": [
    "# Revert transformed data array's back into DataFrame's\n",
    "car_sales_filled_train = pd.DataFrame(filled_X_train, columns=X.columns)\n",
    "car_sales_filled_test = pd.DataFrame(filled_X_test, columns=X.columns)\n",
    "\n",
    "# Verify that there are no missing values in the training set\n",
    "car_sales_filled_train.isna().sum()"
   ]
  },
  {
   "cell_type": "markdown",
   "id": "0dec0e30-16eb-44c4-995f-72437488be2d",
   "metadata": {},
   "source": [
    "## 2. Handling Non-numerical Values\n",
    "\n",
    "Non-numerical values present in categorical features need to be converted into a numerical format that machine learning models can interpret. One common approach is OneHotEncoding, which converts categorical variables into a format that can be provided to ML algorithms to do a better job in prediction.\n",
    "\n",
    "First, we reload our dataset and check for any missing values that need to be addressed before proceeding with encoding. We then split our data into features (`X`) and target (`y`) and further into training and test sets. This is a crucial step to prevent data leakage during imputation and ensures that the model is evaluated on data it has never seen before, thus giving us a better estimate of its performance on new data."
   ]
  },
  {
   "cell_type": "code",
   "execution_count": 12,
   "id": "78754a98-36e6-4639-a790-dd3d0893ea24",
   "metadata": {},
   "outputs": [
    {
     "data": {
      "text/plain": [
       "Make             49\n",
       "Colour           50\n",
       "Odometer (KM)    50\n",
       "Doors            50\n",
       "Price            50\n",
       "dtype: int64"
      ]
     },
     "execution_count": 12,
     "metadata": {},
     "output_type": "execute_result"
    }
   ],
   "source": [
    "# Reimport the DataFrame\n",
    "car_sales_df = pd.read_csv(\"data/car-sales.csv\")\n",
    "car_sales_df.isna().sum()"
   ]
  },
  {
   "cell_type": "code",
   "execution_count": 13,
   "id": "fdbcbdb3-e6d2-4eb8-b1a0-84bffe4d69f4",
   "metadata": {},
   "outputs": [
    {
     "data": {
      "text/plain": [
       "Make              object\n",
       "Colour            object\n",
       "Odometer (KM)    float64\n",
       "Doors            float64\n",
       "Price            float64\n",
       "dtype: object"
      ]
     },
     "execution_count": 13,
     "metadata": {},
     "output_type": "execute_result"
    }
   ],
   "source": [
    "car_sales_df.dtypes"
   ]
  },
  {
   "cell_type": "code",
   "execution_count": 14,
   "id": "e0ea487d-ad47-44da-9bfa-21ad0bb74e8f",
   "metadata": {},
   "outputs": [],
   "source": [
    "# Split the data into features and target\n",
    "X = car_sales_df.drop(\"Price\", axis=1)\n",
    "y = car_sales_df[\"Price\"]\n",
    "\n",
    "# Split the data into training and test sets to prevent data leakage during imputation\n",
    "np.random.seed(42)\n",
    "X_train, X_test, y_train, y_test = train_test_split(X, y, test_size=0.2)"
   ]
  },
  {
   "cell_type": "markdown",
   "id": "a7128e51-7297-4643-8b7b-23b602375453",
   "metadata": {},
   "source": [
    "### 2.1 Handling Non-numerical Values with Scikit-learn\n",
    "\n",
    "Scikit-learn's `ColumnTransformer` and `OneHotEncoder` are robust tools for handling categorical data. We'll apply these to our categorical features to ensure they're model-ready."
   ]
  },
  {
   "cell_type": "code",
   "execution_count": 15,
   "id": "3a9dbf39-97a3-4b01-beb7-be3ce3ade729",
   "metadata": {},
   "outputs": [
    {
     "data": {
      "text/html": [
       "<div>\n",
       "<style scoped>\n",
       "    .dataframe tbody tr th:only-of-type {\n",
       "        vertical-align: middle;\n",
       "    }\n",
       "\n",
       "    .dataframe tbody tr th {\n",
       "        vertical-align: top;\n",
       "    }\n",
       "\n",
       "    .dataframe thead th {\n",
       "        text-align: right;\n",
       "    }\n",
       "</style>\n",
       "<table border=\"1\" class=\"dataframe\">\n",
       "  <thead>\n",
       "    <tr style=\"text-align: right;\">\n",
       "      <th></th>\n",
       "      <th>Make</th>\n",
       "      <th>Colour</th>\n",
       "      <th>Odometer (KM)</th>\n",
       "      <th>Doors</th>\n",
       "    </tr>\n",
       "  </thead>\n",
       "  <tbody>\n",
       "    <tr>\n",
       "      <th>0</th>\n",
       "      <td>Honda</td>\n",
       "      <td>White</td>\n",
       "      <td>35431.0</td>\n",
       "      <td>4.0</td>\n",
       "    </tr>\n",
       "    <tr>\n",
       "      <th>1</th>\n",
       "      <td>BMW</td>\n",
       "      <td>Blue</td>\n",
       "      <td>192714.0</td>\n",
       "      <td>5.0</td>\n",
       "    </tr>\n",
       "    <tr>\n",
       "      <th>2</th>\n",
       "      <td>Honda</td>\n",
       "      <td>White</td>\n",
       "      <td>84714.0</td>\n",
       "      <td>4.0</td>\n",
       "    </tr>\n",
       "    <tr>\n",
       "      <th>3</th>\n",
       "      <td>Toyota</td>\n",
       "      <td>White</td>\n",
       "      <td>154365.0</td>\n",
       "      <td>4.0</td>\n",
       "    </tr>\n",
       "    <tr>\n",
       "      <th>4</th>\n",
       "      <td>Nissan</td>\n",
       "      <td>Blue</td>\n",
       "      <td>181577.0</td>\n",
       "      <td>3.0</td>\n",
       "    </tr>\n",
       "  </tbody>\n",
       "</table>\n",
       "</div>"
      ],
      "text/plain": [
       "     Make Colour  Odometer (KM)  Doors\n",
       "0   Honda  White        35431.0    4.0\n",
       "1     BMW   Blue       192714.0    5.0\n",
       "2   Honda  White        84714.0    4.0\n",
       "3  Toyota  White       154365.0    4.0\n",
       "4  Nissan   Blue       181577.0    3.0"
      ]
     },
     "execution_count": 15,
     "metadata": {},
     "output_type": "execute_result"
    }
   ],
   "source": [
    "X.head()"
   ]
  },
  {
   "cell_type": "code",
   "execution_count": 16,
   "id": "af79a465-29f8-4d60-a288-0af0e51f7195",
   "metadata": {},
   "outputs": [],
   "source": [
    "from sklearn.preprocessing import OneHotEncoder\n",
    "from sklearn.compose import ColumnTransformer\n",
    "\n",
    "# Assume X is your input features DataFrame\n",
    "categorical_features = [\"Make\", \"Colour\", \"Doors\"]  # specify your categorical columns\n",
    "one_hot_encoder = OneHotEncoder()\n",
    "\n",
    "# Create the ColumnTransformer with OneHotEncoder for categorical features\n",
    "transformer = ColumnTransformer(\n",
    "    transformers=[\n",
    "        (\"one_hot\", one_hot_encoder, categorical_features)\n",
    "    ],\n",
    "    remainder=\"passthrough\"  # other columns that are not listed will be passed through without transformation\n",
    ")\n",
    "\n",
    "# Apply the ColumnTransformer to your data\n",
    "transformed_X = transformer.fit_transform(X)"
   ]
  },
  {
   "cell_type": "code",
   "execution_count": 17,
   "id": "10ee5a60-f670-45cd-84c4-f986166b3542",
   "metadata": {},
   "outputs": [
    {
     "data": {
      "text/html": [
       "<div>\n",
       "<style scoped>\n",
       "    .dataframe tbody tr th:only-of-type {\n",
       "        vertical-align: middle;\n",
       "    }\n",
       "\n",
       "    .dataframe tbody tr th {\n",
       "        vertical-align: top;\n",
       "    }\n",
       "\n",
       "    .dataframe thead th {\n",
       "        text-align: right;\n",
       "    }\n",
       "</style>\n",
       "<table border=\"1\" class=\"dataframe\">\n",
       "  <thead>\n",
       "    <tr style=\"text-align: right;\">\n",
       "      <th></th>\n",
       "      <th>Make_BMW</th>\n",
       "      <th>Make_Honda</th>\n",
       "      <th>Make_Nissan</th>\n",
       "      <th>Make_Toyota</th>\n",
       "      <th>Make_nan</th>\n",
       "      <th>Colour_Black</th>\n",
       "      <th>Colour_Blue</th>\n",
       "      <th>Colour_Green</th>\n",
       "      <th>Colour_Red</th>\n",
       "      <th>Colour_White</th>\n",
       "      <th>Colour_nan</th>\n",
       "      <th>Doors_3.0</th>\n",
       "      <th>Doors_4.0</th>\n",
       "      <th>Doors_5.0</th>\n",
       "      <th>Doors_nan</th>\n",
       "      <th>Odometer (KM)</th>\n",
       "    </tr>\n",
       "  </thead>\n",
       "  <tbody>\n",
       "    <tr>\n",
       "      <th>0</th>\n",
       "      <td>0.0</td>\n",
       "      <td>1.0</td>\n",
       "      <td>0.0</td>\n",
       "      <td>0.0</td>\n",
       "      <td>0.0</td>\n",
       "      <td>0.0</td>\n",
       "      <td>0.0</td>\n",
       "      <td>0.0</td>\n",
       "      <td>0.0</td>\n",
       "      <td>1.0</td>\n",
       "      <td>0.0</td>\n",
       "      <td>0.0</td>\n",
       "      <td>1.0</td>\n",
       "      <td>0.0</td>\n",
       "      <td>0.0</td>\n",
       "      <td>35431.0</td>\n",
       "    </tr>\n",
       "    <tr>\n",
       "      <th>1</th>\n",
       "      <td>1.0</td>\n",
       "      <td>0.0</td>\n",
       "      <td>0.0</td>\n",
       "      <td>0.0</td>\n",
       "      <td>0.0</td>\n",
       "      <td>0.0</td>\n",
       "      <td>1.0</td>\n",
       "      <td>0.0</td>\n",
       "      <td>0.0</td>\n",
       "      <td>0.0</td>\n",
       "      <td>0.0</td>\n",
       "      <td>0.0</td>\n",
       "      <td>0.0</td>\n",
       "      <td>1.0</td>\n",
       "      <td>0.0</td>\n",
       "      <td>192714.0</td>\n",
       "    </tr>\n",
       "    <tr>\n",
       "      <th>2</th>\n",
       "      <td>0.0</td>\n",
       "      <td>1.0</td>\n",
       "      <td>0.0</td>\n",
       "      <td>0.0</td>\n",
       "      <td>0.0</td>\n",
       "      <td>0.0</td>\n",
       "      <td>0.0</td>\n",
       "      <td>0.0</td>\n",
       "      <td>0.0</td>\n",
       "      <td>1.0</td>\n",
       "      <td>0.0</td>\n",
       "      <td>0.0</td>\n",
       "      <td>1.0</td>\n",
       "      <td>0.0</td>\n",
       "      <td>0.0</td>\n",
       "      <td>84714.0</td>\n",
       "    </tr>\n",
       "    <tr>\n",
       "      <th>3</th>\n",
       "      <td>0.0</td>\n",
       "      <td>0.0</td>\n",
       "      <td>0.0</td>\n",
       "      <td>1.0</td>\n",
       "      <td>0.0</td>\n",
       "      <td>0.0</td>\n",
       "      <td>0.0</td>\n",
       "      <td>0.0</td>\n",
       "      <td>0.0</td>\n",
       "      <td>1.0</td>\n",
       "      <td>0.0</td>\n",
       "      <td>0.0</td>\n",
       "      <td>1.0</td>\n",
       "      <td>0.0</td>\n",
       "      <td>0.0</td>\n",
       "      <td>154365.0</td>\n",
       "    </tr>\n",
       "    <tr>\n",
       "      <th>4</th>\n",
       "      <td>0.0</td>\n",
       "      <td>0.0</td>\n",
       "      <td>1.0</td>\n",
       "      <td>0.0</td>\n",
       "      <td>0.0</td>\n",
       "      <td>0.0</td>\n",
       "      <td>1.0</td>\n",
       "      <td>0.0</td>\n",
       "      <td>0.0</td>\n",
       "      <td>0.0</td>\n",
       "      <td>0.0</td>\n",
       "      <td>1.0</td>\n",
       "      <td>0.0</td>\n",
       "      <td>0.0</td>\n",
       "      <td>0.0</td>\n",
       "      <td>181577.0</td>\n",
       "    </tr>\n",
       "  </tbody>\n",
       "</table>\n",
       "</div>"
      ],
      "text/plain": [
       "   Make_BMW  Make_Honda  Make_Nissan  Make_Toyota  Make_nan  Colour_Black  \\\n",
       "0       0.0         1.0          0.0          0.0       0.0           0.0   \n",
       "1       1.0         0.0          0.0          0.0       0.0           0.0   \n",
       "2       0.0         1.0          0.0          0.0       0.0           0.0   \n",
       "3       0.0         0.0          0.0          1.0       0.0           0.0   \n",
       "4       0.0         0.0          1.0          0.0       0.0           0.0   \n",
       "\n",
       "   Colour_Blue  Colour_Green  Colour_Red  Colour_White  Colour_nan  Doors_3.0  \\\n",
       "0          0.0           0.0         0.0           1.0         0.0        0.0   \n",
       "1          1.0           0.0         0.0           0.0         0.0        0.0   \n",
       "2          0.0           0.0         0.0           1.0         0.0        0.0   \n",
       "3          0.0           0.0         0.0           1.0         0.0        0.0   \n",
       "4          1.0           0.0         0.0           0.0         0.0        1.0   \n",
       "\n",
       "   Doors_4.0  Doors_5.0  Doors_nan  Odometer (KM)  \n",
       "0        1.0        0.0        0.0        35431.0  \n",
       "1        0.0        1.0        0.0       192714.0  \n",
       "2        1.0        0.0        0.0        84714.0  \n",
       "3        1.0        0.0        0.0       154365.0  \n",
       "4        0.0        0.0        0.0       181577.0  "
      ]
     },
     "execution_count": 17,
     "metadata": {},
     "output_type": "execute_result"
    }
   ],
   "source": [
    "# Convert the transformed_X to a dense format\n",
    "transformed_X_dense = transformed_X.toarray()\n",
    "\n",
    "# Convert the result to a DataFrame\n",
    "# Will require new column names from the one_hot_encoder. get_feature_names_out method can give you the new column names for the one-hot encoded columns\n",
    "new_column_names = transformer.named_transformers_['one_hot'].get_feature_names_out(input_features=categorical_features)\n",
    "\n",
    "# The remainder of the columns will be the non-categorical features, which we assume are passed through\n",
    "# We concatenate them with the new column names from the one-hot encoder\n",
    "all_column_names = list(new_column_names) + [col for col in X.columns if col not in categorical_features]\n",
    "\n",
    "# Finally, create the DataFrame with the new column names\n",
    "transformed_X_df = pd.DataFrame(transformed_X_dense, columns=all_column_names)\n",
    "\n",
    "# Show the resulting DataFrame\n",
    "transformed_X_df.head()"
   ]
  },
  {
   "cell_type": "markdown",
   "id": "4aba5403-7072-4aba-8cf4-47acf868628e",
   "metadata": {},
   "source": [
    "### 2.2 Handling Non-numerical Values with pandas\n",
    "Pandas provides a convenient function called `get_dummies()` which can apply one-hot encoding to our dataset. This function converts categorical variable(s) into dummy/indicator variables that are either `0` or `1`. For each unique value in a categorical column, `get_dummies()` creates a new column that indicates the presence of the value with `1` and `0` otherwise.\n",
    "\n",
    "The resulting DataFrame will have additional columns - one for each unique value in the categorical columns we've selected to encode.\n",
    "\n",
    "Let's apply this to our 'Make', 'Colour', and 'Doors' columns."
   ]
  },
  {
   "cell_type": "code",
   "execution_count": 18,
   "id": "fb22eaa8-7b9d-43af-8232-6ee675c99c12",
   "metadata": {},
   "outputs": [
    {
     "data": {
      "text/html": [
       "<div>\n",
       "<style scoped>\n",
       "    .dataframe tbody tr th:only-of-type {\n",
       "        vertical-align: middle;\n",
       "    }\n",
       "\n",
       "    .dataframe tbody tr th {\n",
       "        vertical-align: top;\n",
       "    }\n",
       "\n",
       "    .dataframe thead th {\n",
       "        text-align: right;\n",
       "    }\n",
       "</style>\n",
       "<table border=\"1\" class=\"dataframe\">\n",
       "  <thead>\n",
       "    <tr style=\"text-align: right;\">\n",
       "      <th></th>\n",
       "      <th>Doors</th>\n",
       "      <th>Make_BMW</th>\n",
       "      <th>Make_Honda</th>\n",
       "      <th>Make_Nissan</th>\n",
       "      <th>Make_Toyota</th>\n",
       "      <th>Colour_Black</th>\n",
       "      <th>Colour_Blue</th>\n",
       "      <th>Colour_Green</th>\n",
       "      <th>Colour_Red</th>\n",
       "      <th>Colour_White</th>\n",
       "    </tr>\n",
       "  </thead>\n",
       "  <tbody>\n",
       "    <tr>\n",
       "      <th>0</th>\n",
       "      <td>4.0</td>\n",
       "      <td>0</td>\n",
       "      <td>1</td>\n",
       "      <td>0</td>\n",
       "      <td>0</td>\n",
       "      <td>0</td>\n",
       "      <td>0</td>\n",
       "      <td>0</td>\n",
       "      <td>0</td>\n",
       "      <td>1</td>\n",
       "    </tr>\n",
       "    <tr>\n",
       "      <th>1</th>\n",
       "      <td>5.0</td>\n",
       "      <td>1</td>\n",
       "      <td>0</td>\n",
       "      <td>0</td>\n",
       "      <td>0</td>\n",
       "      <td>0</td>\n",
       "      <td>1</td>\n",
       "      <td>0</td>\n",
       "      <td>0</td>\n",
       "      <td>0</td>\n",
       "    </tr>\n",
       "    <tr>\n",
       "      <th>2</th>\n",
       "      <td>4.0</td>\n",
       "      <td>0</td>\n",
       "      <td>1</td>\n",
       "      <td>0</td>\n",
       "      <td>0</td>\n",
       "      <td>0</td>\n",
       "      <td>0</td>\n",
       "      <td>0</td>\n",
       "      <td>0</td>\n",
       "      <td>1</td>\n",
       "    </tr>\n",
       "    <tr>\n",
       "      <th>3</th>\n",
       "      <td>4.0</td>\n",
       "      <td>0</td>\n",
       "      <td>0</td>\n",
       "      <td>0</td>\n",
       "      <td>1</td>\n",
       "      <td>0</td>\n",
       "      <td>0</td>\n",
       "      <td>0</td>\n",
       "      <td>0</td>\n",
       "      <td>1</td>\n",
       "    </tr>\n",
       "    <tr>\n",
       "      <th>4</th>\n",
       "      <td>3.0</td>\n",
       "      <td>0</td>\n",
       "      <td>0</td>\n",
       "      <td>1</td>\n",
       "      <td>0</td>\n",
       "      <td>0</td>\n",
       "      <td>1</td>\n",
       "      <td>0</td>\n",
       "      <td>0</td>\n",
       "      <td>0</td>\n",
       "    </tr>\n",
       "  </tbody>\n",
       "</table>\n",
       "</div>"
      ],
      "text/plain": [
       "   Doors  Make_BMW  Make_Honda  Make_Nissan  Make_Toyota  Colour_Black  \\\n",
       "0    4.0         0           1            0            0             0   \n",
       "1    5.0         1           0            0            0             0   \n",
       "2    4.0         0           1            0            0             0   \n",
       "3    4.0         0           0            0            1             0   \n",
       "4    3.0         0           0            1            0             0   \n",
       "\n",
       "   Colour_Blue  Colour_Green  Colour_Red  Colour_White  \n",
       "0            0             0           0             1  \n",
       "1            1             0           0             0  \n",
       "2            0             0           0             1  \n",
       "3            0             0           0             1  \n",
       "4            1             0           0             0  "
      ]
     },
     "execution_count": 18,
     "metadata": {},
     "output_type": "execute_result"
    }
   ],
   "source": [
    "dummies = pd.get_dummies(car_sales_df[[\"Make\", \"Colour\", \"Doors\"]], dtype=int)\n",
    "dummies.head()"
   ]
  }
 ],
 "metadata": {
  "kernelspec": {
   "display_name": "Python 3 (ipykernel)",
   "language": "python",
   "name": "python3"
  },
  "language_info": {
   "codemirror_mode": {
    "name": "ipython",
    "version": 3
   },
   "file_extension": ".py",
   "mimetype": "text/x-python",
   "name": "python",
   "nbconvert_exporter": "python",
   "pygments_lexer": "ipython3",
   "version": "3.10.13"
  }
 },
 "nbformat": 4,
 "nbformat_minor": 5
}
